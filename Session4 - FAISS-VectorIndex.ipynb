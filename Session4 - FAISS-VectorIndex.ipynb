{
 "cells": [
  {
   "cell_type": "markdown",
   "id": "f558e6bc",
   "metadata": {},
   "source": [
    "### Loading dataset"
   ]
  },
  {
   "cell_type": "code",
   "execution_count": null,
   "id": "c6748afb",
   "metadata": {},
   "outputs": [],
   "source": [
    "# ! pip install -U datasets"
   ]
  },
  {
   "cell_type": "code",
   "execution_count": null,
   "id": "df6f7e7e",
   "metadata": {},
   "outputs": [],
   "source": [
    "from datasets import load_dataset\n",
    "dataset = load_dataset(\"wikimedia/wikipedia\", \"20231101.en\")"
   ]
  },
  {
   "cell_type": "code",
   "execution_count": null,
   "id": "5843776c",
   "metadata": {},
   "outputs": [],
   "source": [
    "train_dataset = dataset[\"train\"]\n",
    "len(train_dataset)"
   ]
  },
  {
   "cell_type": "code",
   "execution_count": null,
   "id": "1a8b7da8",
   "metadata": {},
   "outputs": [],
   "source": [
    "import random\n",
    "num_rows = len(train_dataset)\n",
    "random_indices = random.sample(range(num_rows), 1000)\n",
    "random_rows = [train_dataset[idx] for idx in random_indices]"
   ]
  },
  {
   "cell_type": "code",
   "execution_count": null,
   "id": "10c9645a",
   "metadata": {},
   "outputs": [],
   "source": [
    "articles = [x[\"text\"] for x in random_rows]"
   ]
  },
  {
   "cell_type": "markdown",
   "id": "700ffb58",
   "metadata": {},
   "source": [
    "### Generating embeddings using Sentence Transformers"
   ]
  },
  {
   "cell_type": "code",
   "execution_count": null,
   "id": "4222c40e",
   "metadata": {},
   "outputs": [],
   "source": [
    "# ! pip install -U transformers nltk"
   ]
  },
  {
   "cell_type": "code",
   "execution_count": null,
   "id": "76c2988d",
   "metadata": {},
   "outputs": [],
   "source": [
    "from sentence_transformers import SentenceTransformer\n",
    "model = SentenceTransformer(\"all-mpnet-base-v2\")\n"
   ]
  },
  {
   "cell_type": "code",
   "execution_count": null,
   "id": "6fe3d050",
   "metadata": {},
   "outputs": [],
   "source": [
    "from tqdm import tqdm\n",
    "\n",
    "result = []\n",
    "for article in tqdm(articles):\n",
    "    result.append(model.encode(article))\n"
   ]
  },
  {
   "cell_type": "code",
   "execution_count": null,
   "id": "c519d33f",
   "metadata": {},
   "outputs": [],
   "source": [
    "len(result)"
   ]
  },
  {
   "cell_type": "code",
   "execution_count": null,
   "id": "2c4cb90d",
   "metadata": {},
   "outputs": [],
   "source": [
    "result[0].shape"
   ]
  },
  {
   "cell_type": "markdown",
   "id": "15e9578a",
   "metadata": {},
   "source": [
    "### Indexing data into FAISS"
   ]
  },
  {
   "cell_type": "code",
   "execution_count": null,
   "id": "11dda142",
   "metadata": {},
   "outputs": [],
   "source": [
    "import numpy as np\n",
    "np_result = np.array(result)"
   ]
  },
  {
   "cell_type": "code",
   "execution_count": null,
   "id": "88086e76",
   "metadata": {},
   "outputs": [],
   "source": [
    "np_result.shape"
   ]
  },
  {
   "cell_type": "code",
   "execution_count": null,
   "id": "193b34b7",
   "metadata": {},
   "outputs": [],
   "source": [
    "import faiss\n",
    "d = 768\n",
    "index = faiss.IndexFlatL2(d)   # build the index\n"
   ]
  },
  {
   "cell_type": "code",
   "execution_count": null,
   "id": "45226f9a",
   "metadata": {},
   "outputs": [],
   "source": [
    "index.add(np_result)                  # add vectors to the index\n",
    "print(index.ntotal)"
   ]
  },
  {
   "cell_type": "markdown",
   "id": "b624be43",
   "metadata": {},
   "source": [
    "### Querying data"
   ]
  },
  {
   "cell_type": "code",
   "execution_count": null,
   "id": "17660671",
   "metadata": {},
   "outputs": [],
   "source": [
    "articles[0]"
   ]
  },
  {
   "cell_type": "code",
   "execution_count": null,
   "id": "7de15310",
   "metadata": {},
   "outputs": [],
   "source": [
    "q = \"William\""
   ]
  },
  {
   "cell_type": "code",
   "execution_count": null,
   "id": "58301a0b",
   "metadata": {},
   "outputs": [],
   "source": [
    "xq = model.encode(q)"
   ]
  },
  {
   "cell_type": "code",
   "execution_count": null,
   "id": "c461f94f",
   "metadata": {},
   "outputs": [],
   "source": [
    "xq.shape"
   ]
  },
  {
   "cell_type": "code",
   "execution_count": null,
   "id": "9cc60b75",
   "metadata": {},
   "outputs": [],
   "source": [
    "xq = xq.reshape(1, -1)"
   ]
  },
  {
   "cell_type": "code",
   "execution_count": null,
   "id": "b691c557",
   "metadata": {},
   "outputs": [],
   "source": [
    "xq.shape"
   ]
  },
  {
   "cell_type": "code",
   "execution_count": null,
   "id": "971637cc",
   "metadata": {},
   "outputs": [],
   "source": [
    "index.search(xq, 2)"
   ]
  },
  {
   "cell_type": "code",
   "execution_count": null,
   "id": "dca4e274",
   "metadata": {},
   "outputs": [],
   "source": [
    "articles[743]"
   ]
  },
  {
   "cell_type": "code",
   "execution_count": null,
   "id": "234735ad",
   "metadata": {},
   "outputs": [],
   "source": []
  }
 ],
 "metadata": {
  "kernelspec": {
   "display_name": "Python 3 (ipykernel)",
   "language": "python",
   "name": "python3"
  },
  "language_info": {
   "codemirror_mode": {
    "name": "ipython",
    "version": 3
   },
   "file_extension": ".py",
   "mimetype": "text/x-python",
   "name": "python",
   "nbconvert_exporter": "python",
   "pygments_lexer": "ipython3",
   "version": "3.11.5"
  }
 },
 "nbformat": 4,
 "nbformat_minor": 5
}

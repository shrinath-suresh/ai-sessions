{
 "cells": [
  {
   "cell_type": "markdown",
   "id": "60874b44",
   "metadata": {
    "ExecuteTime": {
     "end_time": "2024-03-11T08:41:35.160101Z",
     "start_time": "2024-03-11T08:41:21.479851Z"
    }
   },
   "source": [
    "### Load the dataset"
   ]
  },
  {
   "cell_type": "code",
   "execution_count": null,
   "id": "e1006868",
   "metadata": {
    "ExecuteTime": {
     "end_time": "2024-03-11T11:04:34.035213Z",
     "start_time": "2024-03-11T11:04:22.581421Z"
    }
   },
   "outputs": [],
   "source": [
    "from datasets import load_dataset\n",
    "dataset = load_dataset(\"wikimedia/wikipedia\", \"20231101.en\")"
   ]
  },
  {
   "cell_type": "markdown",
   "id": "4a3bda4d",
   "metadata": {},
   "source": [
    "### Select random samples"
   ]
  },
  {
   "cell_type": "code",
   "execution_count": null,
   "id": "1e2e7c1c",
   "metadata": {
    "ExecuteTime": {
     "end_time": "2024-03-11T11:04:34.039982Z",
     "start_time": "2024-03-11T11:04:34.037557Z"
    }
   },
   "outputs": [],
   "source": [
    "len(dataset[\"train\"])"
   ]
  },
  {
   "cell_type": "code",
   "execution_count": null,
   "id": "2c692e7f",
   "metadata": {
    "ExecuteTime": {
     "end_time": "2024-03-11T11:04:34.118617Z",
     "start_time": "2024-03-11T11:04:34.041387Z"
    }
   },
   "outputs": [],
   "source": [
    "import random\n",
    "num_rows = len(dataset[\"train\"])\n",
    "random_indices = random.sample(range(num_rows), 100)\n",
    "random_rows = [dataset[\"train\"][idx] for idx in random_indices]"
   ]
  },
  {
   "cell_type": "markdown",
   "id": "63f2aab3",
   "metadata": {},
   "source": [
    "### Extract only text columns"
   ]
  },
  {
   "cell_type": "code",
   "execution_count": null,
   "id": "4e3c7ac6",
   "metadata": {
    "ExecuteTime": {
     "end_time": "2024-03-11T11:04:44.224071Z",
     "start_time": "2024-03-11T11:04:44.220940Z"
    }
   },
   "outputs": [],
   "source": [
    "articles = [x[\"text\"] for x in random_rows]"
   ]
  },
  {
   "cell_type": "markdown",
   "id": "6b579b0a",
   "metadata": {},
   "source": [
    "### Remove external references"
   ]
  },
  {
   "cell_type": "code",
   "execution_count": null,
   "id": "fe1a57dc",
   "metadata": {
    "ExecuteTime": {
     "end_time": "2024-03-11T11:05:04.676641Z",
     "start_time": "2024-03-11T11:05:04.674209Z"
    }
   },
   "outputs": [],
   "source": [
    "articles = [article.split(\"References\")[0] for article in articles]"
   ]
  },
  {
   "cell_type": "code",
   "execution_count": null,
   "id": "202cdd41",
   "metadata": {
    "ExecuteTime": {
     "end_time": "2024-03-11T11:05:06.800453Z",
     "start_time": "2024-03-11T11:05:06.796011Z"
    }
   },
   "outputs": [],
   "source": [
    "print(articles[1])"
   ]
  },
  {
   "cell_type": "markdown",
   "id": "5c2bce98",
   "metadata": {},
   "source": [
    "### Preprocessing"
   ]
  },
  {
   "cell_type": "code",
   "execution_count": null,
   "id": "1c57a06a",
   "metadata": {
    "ExecuteTime": {
     "end_time": "2024-03-11T11:05:15.011675Z",
     "start_time": "2024-03-11T11:05:15.006900Z"
    }
   },
   "outputs": [],
   "source": [
    "import pandas as pd\n",
    "\n",
    "df = pd.DataFrame({\n",
    "    \"article\": articles\n",
    "})"
   ]
  },
  {
   "cell_type": "code",
   "execution_count": null,
   "id": "021d8b35",
   "metadata": {
    "ExecuteTime": {
     "end_time": "2024-03-11T11:05:15.319127Z",
     "start_time": "2024-03-11T11:05:15.314812Z"
    }
   },
   "outputs": [],
   "source": [
    "df[\"length\"] = df[\"article\"].str.len()"
   ]
  },
  {
   "cell_type": "code",
   "execution_count": null,
   "id": "abfd2a85",
   "metadata": {
    "ExecuteTime": {
     "end_time": "2024-03-11T11:05:16.061664Z",
     "start_time": "2024-03-11T11:05:16.035494Z"
    }
   },
   "outputs": [],
   "source": [
    "import plotly.express as px\n",
    "\n",
    "px.bar(df, x=df.index, y=\"length\")"
   ]
  },
  {
   "cell_type": "code",
   "execution_count": null,
   "id": "60f7e130",
   "metadata": {
    "ExecuteTime": {
     "end_time": "2024-03-11T11:06:47.378832Z",
     "start_time": "2024-03-11T11:06:47.374574Z"
    }
   },
   "outputs": [],
   "source": [
    "for i in range(len(articles)):\n",
    "    if len(articles[i]) > 3000:\n",
    "        articles[i] = articles[i].split(\"\\n\")[0]"
   ]
  },
  {
   "cell_type": "code",
   "execution_count": null,
   "id": "869dadc2",
   "metadata": {
    "ExecuteTime": {
     "end_time": "2024-03-11T11:06:56.632875Z",
     "start_time": "2024-03-11T11:06:56.603063Z"
    }
   },
   "outputs": [],
   "source": [
    "df[\"article\"] = articles\n",
    "df[\"length\"] = df[\"article\"].str.len()\n",
    "px.bar(df, x=df.index, y=\"length\")"
   ]
  },
  {
   "cell_type": "markdown",
   "id": "6a07f48d",
   "metadata": {},
   "source": [
    "### Calculate tokens"
   ]
  },
  {
   "cell_type": "code",
   "execution_count": null,
   "id": "12589604",
   "metadata": {
    "ExecuteTime": {
     "end_time": "2024-03-11T11:07:48.410494Z",
     "start_time": "2024-03-11T11:07:48.404043Z"
    }
   },
   "outputs": [],
   "source": [
    "import tiktoken\n",
    "encoding = tiktoken.encoding_for_model(\"gpt-3.5-turbo\")\n",
    "\n",
    "for article in articles:\n",
    "    print(article.split(\"\\n\")[0])\n",
    "    break"
   ]
  },
  {
   "cell_type": "code",
   "execution_count": null,
   "id": "695d5c9f",
   "metadata": {
    "ExecuteTime": {
     "end_time": "2024-03-11T11:07:54.595757Z",
     "start_time": "2024-03-11T11:07:54.572628Z"
    }
   },
   "outputs": [],
   "source": [
    "from tqdm import tqdm\n",
    "total_token = 0\n",
    "for article in tqdm(articles):\n",
    "    total_token += len(encoding.encode(article))"
   ]
  },
  {
   "cell_type": "code",
   "execution_count": null,
   "id": "9dd1ccce",
   "metadata": {
    "ExecuteTime": {
     "end_time": "2024-03-11T11:08:12.852671Z",
     "start_time": "2024-03-11T11:08:12.847756Z"
    }
   },
   "outputs": [],
   "source": [
    "total_token"
   ]
  },
  {
   "cell_type": "markdown",
   "id": "882b63dd",
   "metadata": {},
   "source": [
    "### Estimated Cost"
   ]
  },
  {
   "cell_type": "code",
   "execution_count": null,
   "id": "7e63fec7",
   "metadata": {
    "ExecuteTime": {
     "end_time": "2024-03-11T11:08:21.156060Z",
     "start_time": "2024-03-11T11:08:21.150219Z"
    }
   },
   "outputs": [],
   "source": [
    "(total_token * 0.5)/1000000"
   ]
  },
  {
   "cell_type": "markdown",
   "id": "5dc2d438",
   "metadata": {},
   "source": [
    "### Set your openai key"
   ]
  },
  {
   "cell_type": "code",
   "execution_count": null,
   "id": "b904362b",
   "metadata": {
    "ExecuteTime": {
     "end_time": "2024-03-11T11:10:25.492774Z",
     "start_time": "2024-03-11T11:09:44.510585Z"
    }
   },
   "outputs": [],
   "source": [
    "from getpass import getpass\n",
    "\n",
    "OPENAI_API_KEY = getpass()"
   ]
  },
  {
   "cell_type": "code",
   "execution_count": null,
   "id": "08c4bc91",
   "metadata": {
    "ExecuteTime": {
     "end_time": "2024-03-11T11:10:33.958475Z",
     "start_time": "2024-03-11T11:10:33.954115Z"
    }
   },
   "outputs": [],
   "source": [
    "import os\n",
    "\n",
    "os.environ[\"OPENAI_API_KEY\"] = OPENAI_API_KEY"
   ]
  },
  {
   "cell_type": "code",
   "execution_count": null,
   "id": "702f3b67",
   "metadata": {
    "ExecuteTime": {
     "end_time": "2024-03-11T11:10:57.807954Z",
     "start_time": "2024-03-11T11:10:57.802895Z"
    }
   },
   "outputs": [],
   "source": [
    "from langchain.chains import LLMChain\n",
    "from langchain.prompts import PromptTemplate\n",
    "from langchain_openai import OpenAI"
   ]
  },
  {
   "cell_type": "code",
   "execution_count": null,
   "id": "fdcba14b",
   "metadata": {
    "ExecuteTime": {
     "end_time": "2024-03-11T11:16:06.355508Z",
     "start_time": "2024-03-11T11:16:06.350650Z"
    }
   },
   "outputs": [],
   "source": [
    "template = \"\"\" Classify the following article into one of 20 categories \n",
    "\n",
    "Article: {article}\n",
    "\n",
    "Categories: categories = [\n",
    "\"History & Archaeology\",\n",
    "\"Science & Technology\",\n",
    "\"Literature & Language\",\n",
    "\"Arts & Entertainment\",\n",
    "\"Geography & Travel\",\n",
    "\"Politics & Government\",\n",
    "\"Philosophy & Religion\",\n",
    "\"Sports & Recreation\",\n",
    "\"Health & Medicine\",\n",
    "\"Business & Economics\",\n",
    "\"Education & Learning\",\n",
    "\"Environment & Ecology\",\n",
    "\"Society & Culture\",\n",
    "\"Mathematics & Statistics\",\n",
    "\"Law & Justice\",\n",
    "\"Food & Drink\",\n",
    "\"Media & Communication\",\n",
    "\"Fashion & Beauty\",\n",
    "\"Mythology & Folklore\",\n",
    "\"Miscellaneous (for articles that may not fit neatly into the other categories)\"\n",
    "]\n",
    "Answer: \"\"\"\n",
    "\n",
    "prompt = PromptTemplate.from_template(template)"
   ]
  },
  {
   "cell_type": "code",
   "execution_count": null,
   "id": "299545f5",
   "metadata": {
    "ExecuteTime": {
     "end_time": "2024-03-11T11:16:07.011744Z",
     "start_time": "2024-03-11T11:16:07.006173Z"
    }
   },
   "outputs": [],
   "source": [
    "prompt"
   ]
  },
  {
   "cell_type": "code",
   "execution_count": null,
   "id": "2a591fe8",
   "metadata": {
    "ExecuteTime": {
     "end_time": "2024-03-11T11:16:08.636766Z",
     "start_time": "2024-03-11T11:16:08.585088Z"
    }
   },
   "outputs": [],
   "source": [
    "llm = OpenAI()"
   ]
  },
  {
   "cell_type": "code",
   "execution_count": null,
   "id": "ff470569",
   "metadata": {
    "ExecuteTime": {
     "end_time": "2024-03-11T11:16:33.248460Z",
     "start_time": "2024-03-11T11:16:33.244065Z"
    }
   },
   "outputs": [],
   "source": [
    "llm_chain = LLMChain(prompt=prompt, llm=llm)"
   ]
  },
  {
   "cell_type": "code",
   "execution_count": null,
   "id": "33bbd0a9",
   "metadata": {
    "ExecuteTime": {
     "end_time": "2024-03-11T09:13:46.965870Z",
     "start_time": "2024-03-11T09:13:46.961449Z"
    }
   },
   "outputs": [],
   "source": []
  },
  {
   "cell_type": "code",
   "execution_count": null,
   "id": "ba85eca8",
   "metadata": {
    "ExecuteTime": {
     "end_time": "2024-03-11T11:17:43.695875Z",
     "start_time": "2024-03-11T11:16:57.039205Z"
    }
   },
   "outputs": [],
   "source": [
    "%%time\n",
    "answers = []\n",
    "\n",
    "for article in tqdm(articles):\n",
    "    answers.append(llm_chain.run(article))"
   ]
  },
  {
   "cell_type": "code",
   "execution_count": null,
   "id": "48c9ff8e",
   "metadata": {
    "ExecuteTime": {
     "end_time": "2024-03-11T11:17:43.703540Z",
     "start_time": "2024-03-11T11:17:43.699342Z"
    }
   },
   "outputs": [],
   "source": [
    "answer_df = pd.DataFrame({\n",
    "    \"articles\" : articles,\n",
    "    \"category\": answers\n",
    "})"
   ]
  },
  {
   "cell_type": "code",
   "execution_count": null,
   "id": "29476f3c",
   "metadata": {
    "ExecuteTime": {
     "end_time": "2024-03-11T11:17:43.725283Z",
     "start_time": "2024-03-11T11:17:43.706178Z"
    }
   },
   "outputs": [],
   "source": [
    "answer_df.head()"
   ]
  },
  {
   "cell_type": "code",
   "execution_count": null,
   "id": "41baea24",
   "metadata": {
    "ExecuteTime": {
     "end_time": "2024-03-11T11:17:52.317239Z",
     "start_time": "2024-03-11T11:17:52.308486Z"
    }
   },
   "outputs": [],
   "source": [
    "answer_df.loc[0, \"articles\"]"
   ]
  },
  {
   "cell_type": "code",
   "execution_count": null,
   "id": "f3e01464",
   "metadata": {
    "ExecuteTime": {
     "end_time": "2024-03-11T11:17:55.043144Z",
     "start_time": "2024-03-11T11:17:55.036136Z"
    }
   },
   "outputs": [],
   "source": [
    "answer_df.loc[0, \"category\"]"
   ]
  },
  {
   "cell_type": "code",
   "execution_count": null,
   "id": "dd6ad928",
   "metadata": {
    "ExecuteTime": {
     "end_time": "2024-03-11T09:21:41.866231Z",
     "start_time": "2024-03-11T09:21:41.854283Z"
    }
   },
   "outputs": [],
   "source": [
    "answer_df.to_csv(\"answer.csv\", index=False)"
   ]
  },
  {
   "cell_type": "markdown",
   "id": "1e3a684a",
   "metadata": {},
   "source": [
    "### Cost"
   ]
  },
  {
   "cell_type": "code",
   "execution_count": null,
   "id": "40c5d3be",
   "metadata": {
    "ExecuteTime": {
     "end_time": "2024-03-11T09:23:45.894207Z",
     "start_time": "2024-03-11T09:23:45.891304Z"
    }
   },
   "outputs": [],
   "source": [
    "(7000000000 * 0.5 ) / 1000000"
   ]
  },
  {
   "cell_type": "markdown",
   "id": "59971126",
   "metadata": {},
   "source": [
    "### Duration"
   ]
  },
  {
   "cell_type": "code",
   "execution_count": null,
   "id": "02d98c64",
   "metadata": {
    "ExecuteTime": {
     "end_time": "2024-03-11T09:26:41.245595Z",
     "start_time": "2024-03-11T09:26:41.242729Z"
    }
   },
   "outputs": [],
   "source": [
    "((((6407814 * 52) / 100) / 60 )/ 60)"
   ]
  },
  {
   "cell_type": "markdown",
   "id": "62dea09c",
   "metadata": {},
   "source": [
    "### Ollama"
   ]
  },
  {
   "cell_type": "code",
   "execution_count": null,
   "id": "fecaf1ea",
   "metadata": {
    "ExecuteTime": {
     "end_time": "2024-03-11T10:20:20.292015Z",
     "start_time": "2024-03-11T10:20:16.275153Z"
    }
   },
   "outputs": [],
   "source": [
    "from langchain_community.llms import Ollama\n",
    "\n",
    "llm = Ollama(model=\"mistral\")\n",
    "\n",
    "llm.invoke(\"Tell me a joke\")"
   ]
  },
  {
   "cell_type": "markdown",
   "id": "d5fc08d6",
   "metadata": {},
   "source": [
    "### Opensource Models"
   ]
  },
  {
   "cell_type": "code",
   "execution_count": null,
   "id": "13f4cbdf",
   "metadata": {
    "ExecuteTime": {
     "end_time": "2024-03-11T10:25:46.723691Z",
     "start_time": "2024-03-11T10:25:41.569484Z"
    }
   },
   "outputs": [],
   "source": [
    "from getpass import getpass\n",
    "\n",
    "HUGGINGFACEHUB_API_TOKEN = getpass()"
   ]
  },
  {
   "cell_type": "code",
   "execution_count": null,
   "id": "48a50fc3",
   "metadata": {
    "ExecuteTime": {
     "end_time": "2024-03-11T10:25:53.979255Z",
     "start_time": "2024-03-11T10:25:53.974691Z"
    }
   },
   "outputs": [],
   "source": [
    "import os\n",
    "\n",
    "os.environ[\"HUGGINGFACEHUB_API_TOKEN\"] = HUGGINGFACEHUB_API_TOKEN"
   ]
  },
  {
   "cell_type": "code",
   "execution_count": null,
   "id": "442ccda8",
   "metadata": {
    "ExecuteTime": {
     "end_time": "2024-03-11T10:26:06.276593Z",
     "start_time": "2024-03-11T10:26:06.274668Z"
    }
   },
   "outputs": [],
   "source": [
    "url = \"http://<IP>:8080\""
   ]
  },
  {
   "cell_type": "code",
   "execution_count": null,
   "id": "96250f95",
   "metadata": {
    "ExecuteTime": {
     "end_time": "2024-03-11T10:29:19.141209Z",
     "start_time": "2024-03-11T10:29:18.900070Z"
    }
   },
   "outputs": [],
   "source": [
    "from langchain_community.llms import HuggingFaceEndpoint\n",
    "\n",
    "llm = HuggingFaceEndpoint(\n",
    "    endpoint_url=f\"{url}\",\n",
    "    max_new_tokens=512\n",
    ")\n"
   ]
  },
  {
   "cell_type": "code",
   "execution_count": null,
   "id": "a808d067",
   "metadata": {
    "ExecuteTime": {
     "end_time": "2024-03-11T10:29:21.208617Z",
     "start_time": "2024-03-11T10:29:21.203279Z"
    }
   },
   "outputs": [],
   "source": [
    "llm_chain = LLMChain(prompt=prompt, llm=llm)"
   ]
  },
  {
   "cell_type": "code",
   "execution_count": null,
   "id": "f4061b0a",
   "metadata": {
    "ExecuteTime": {
     "end_time": "2024-03-11T10:32:44.740381Z",
     "start_time": "2024-03-11T10:29:48.547292Z"
    }
   },
   "outputs": [],
   "source": [
    "%%time\n",
    "answers = []\n",
    "\n",
    "for article in tqdm(articles):\n",
    "    answers.append(llm_chain.run(article))"
   ]
  },
  {
   "cell_type": "code",
   "execution_count": null,
   "id": "8fc26580",
   "metadata": {
    "ExecuteTime": {
     "end_time": "2024-03-11T10:33:02.445912Z",
     "start_time": "2024-03-11T10:33:02.442263Z"
    }
   },
   "outputs": [],
   "source": [
    "answers"
   ]
  }
 ],
 "metadata": {
  "kernelspec": {
   "display_name": "Python 3 (ipykernel)",
   "language": "python",
   "name": "python3"
  },
  "language_info": {
   "codemirror_mode": {
    "name": "ipython",
    "version": 3
   },
   "file_extension": ".py",
   "mimetype": "text/x-python",
   "name": "python",
   "nbconvert_exporter": "python",
   "pygments_lexer": "ipython3",
   "version": "3.11.5"
  }
 },
 "nbformat": 4,
 "nbformat_minor": 5
}

{
 "cells": [
  {
   "cell_type": "markdown",
   "id": "6335a099",
   "metadata": {},
   "source": [
    "### Imports"
   ]
  },
  {
   "cell_type": "code",
   "execution_count": 1,
   "id": "c2c0f507",
   "metadata": {
    "ExecuteTime": {
     "end_time": "2024-03-07T04:26:04.635060Z",
     "start_time": "2024-03-07T04:26:04.109209Z"
    }
   },
   "outputs": [],
   "source": [
    "import os\n",
    "import json\n",
    "from langchain_community.document_loaders.csv_loader import CSVLoader\n",
    "from langchain_text_splitters import RecursiveCharacterTextSplitter\n",
    "from langchain_community.embeddings import HuggingFaceEmbeddings\n",
    "from langchain_pinecone import PineconeVectorStore"
   ]
  },
  {
   "cell_type": "markdown",
   "id": "503e8eff",
   "metadata": {},
   "source": [
    "### Loading dataset"
   ]
  },
  {
   "cell_type": "code",
   "execution_count": 2,
   "id": "ec622dcc",
   "metadata": {
    "ExecuteTime": {
     "end_time": "2024-03-07T04:05:55.828874Z",
     "start_time": "2024-03-07T04:05:55.826625Z"
    }
   },
   "outputs": [],
   "source": [
    "import random\n",
    "from datasets import load_dataset\n",
    "dataset = load_dataset(\"wikimedia/wikipedia\", \"20231101.en\")"
   ]
  },
  {
   "cell_type": "code",
   "execution_count": 3,
   "id": "a19a37a7",
   "metadata": {
    "ExecuteTime": {
     "end_time": "2024-03-07T04:05:57.933326Z",
     "start_time": "2024-03-07T04:05:57.928892Z"
    }
   },
   "outputs": [],
   "source": [
    "train_dataset = dataset[\"train\"]"
   ]
  },
  {
   "cell_type": "code",
   "execution_count": 4,
   "id": "70c148e3",
   "metadata": {
    "ExecuteTime": {
     "end_time": "2024-03-07T04:06:00.148038Z",
     "start_time": "2024-03-07T04:06:00.143685Z"
    }
   },
   "outputs": [],
   "source": [
    "# randomly selecting 10k articles\n",
    "num_rows = len(train_dataset)\n",
    "random_indices = random.sample(range(num_rows), 10000)\n",
    "random_rows = [train_dataset[idx] for idx in random_indices]"
   ]
  },
  {
   "cell_type": "code",
   "execution_count": 5,
   "id": "980c5b95",
   "metadata": {
    "ExecuteTime": {
     "end_time": "2024-03-07T04:06:02.482597Z",
     "start_time": "2024-03-07T04:06:02.480079Z"
    }
   },
   "outputs": [],
   "source": [
    "import pandas as pd\n",
    "df = pd.DataFrame(random_rows)\n",
    "df.to_csv(\"wiki10k.csv\", index=False)"
   ]
  },
  {
   "cell_type": "markdown",
   "id": "2f81ed97",
   "metadata": {},
   "source": [
    "### Load the dataset using langchain"
   ]
  },
  {
   "cell_type": "code",
   "execution_count": 2,
   "id": "4fea3f20",
   "metadata": {
    "ExecuteTime": {
     "end_time": "2024-03-07T04:26:08.773274Z",
     "start_time": "2024-03-07T04:26:08.762599Z"
    }
   },
   "outputs": [
    {
     "data": {
      "text/plain": [
       "131072"
      ]
     },
     "execution_count": 2,
     "metadata": {},
     "output_type": "execute_result"
    }
   ],
   "source": [
    "import sys\n",
    "import csv\n",
    "\n",
    "csv.field_size_limit(sys.maxsize)"
   ]
  },
  {
   "cell_type": "code",
   "execution_count": 3,
   "id": "068fe373",
   "metadata": {
    "ExecuteTime": {
     "end_time": "2024-03-07T04:26:10.845637Z",
     "start_time": "2024-03-07T04:26:10.593391Z"
    }
   },
   "outputs": [],
   "source": [
    "loader = CSVLoader(file_path='./wiki10k.csv', metadata_columns=['id','url','title'])\n",
    "langchain_docs = loader.load()"
   ]
  },
  {
   "cell_type": "markdown",
   "id": "a1498cc1",
   "metadata": {},
   "source": [
    "### Chunking"
   ]
  },
  {
   "cell_type": "code",
   "execution_count": 4,
   "id": "5196fa25",
   "metadata": {
    "ExecuteTime": {
     "end_time": "2024-03-07T04:26:12.125504Z",
     "start_time": "2024-03-07T04:26:12.120471Z"
    }
   },
   "outputs": [],
   "source": [
    "text_splitter = RecursiveCharacterTextSplitter(\n",
    "    chunk_size=512,\n",
    "    chunk_overlap=20,\n",
    "    length_function=len,\n",
    "    is_separator_regex=False,\n",
    ")"
   ]
  },
  {
   "cell_type": "code",
   "execution_count": 5,
   "id": "7da6d0f4",
   "metadata": {
    "ExecuteTime": {
     "end_time": "2024-03-07T04:26:15.167956Z",
     "start_time": "2024-03-07T04:26:12.927134Z"
    }
   },
   "outputs": [],
   "source": [
    "docs = text_splitter.split_documents(documents=langchain_docs)"
   ]
  },
  {
   "cell_type": "code",
   "execution_count": 6,
   "id": "04974905",
   "metadata": {
    "ExecuteTime": {
     "end_time": "2024-03-07T04:26:15.171743Z",
     "start_time": "2024-03-07T04:26:15.169088Z"
    }
   },
   "outputs": [
    {
     "data": {
      "text/plain": [
       "91455"
      ]
     },
     "execution_count": 6,
     "metadata": {},
     "output_type": "execute_result"
    }
   ],
   "source": [
    "len(docs)"
   ]
  },
  {
   "cell_type": "code",
   "execution_count": 10,
   "id": "c141f6ec",
   "metadata": {
    "ExecuteTime": {
     "end_time": "2024-03-07T04:26:34.179221Z",
     "start_time": "2024-03-07T04:26:34.171457Z"
    }
   },
   "outputs": [
    {
     "data": {
      "text/plain": [
       "Document(page_content='text: Daniel Remshart Thomas (August 27, 1843 – April 7, 1915) was an American businessman and city councillor based in Savannah, Georgia. He was an original member of the Sinking Fund Commission, which was established by the City of Savannah in 1878 aimed at retiring general bond issues. He served on the city council for almost fourteen years.\\n\\nLife and career\\nThomas was born on August 27, 1843, to John T. Thomas and Jane Ann Remshart. As a child, he had \"a delicate constitution and imperfect sight\".', metadata={'source': './wiki10k.csv', 'row': 0, 'id': '70400187', 'url': 'https://en.wikipedia.org/wiki/Daniel%20Remshart%20Thomas', 'title': 'Daniel Remshart Thomas'})"
      ]
     },
     "execution_count": 10,
     "metadata": {},
     "output_type": "execute_result"
    }
   ],
   "source": [
    "docs[0]"
   ]
  },
  {
   "cell_type": "markdown",
   "id": "679ad968",
   "metadata": {},
   "source": [
    "### Embedding "
   ]
  },
  {
   "cell_type": "code",
   "execution_count": 11,
   "id": "4f7cc14f",
   "metadata": {
    "ExecuteTime": {
     "end_time": "2024-03-07T04:26:42.164570Z",
     "start_time": "2024-03-07T04:26:36.888559Z"
    }
   },
   "outputs": [],
   "source": [
    "embeddings = HuggingFaceEmbeddings()"
   ]
  },
  {
   "cell_type": "code",
   "execution_count": 10,
   "id": "3a3b42be",
   "metadata": {
    "ExecuteTime": {
     "end_time": "2024-03-07T04:09:05.477354Z",
     "start_time": "2024-03-07T04:09:05.473875Z"
    }
   },
   "outputs": [],
   "source": [
    "# Check the dimension before creating index in pinecone\n",
    "embeddings.embed_documents(docs[0].page_content)[0]"
   ]
  },
  {
   "cell_type": "markdown",
   "id": "305925db",
   "metadata": {},
   "source": [
    "### Insert data into pinecone"
   ]
  },
  {
   "cell_type": "code",
   "execution_count": 13,
   "id": "05b3ea32",
   "metadata": {
    "ExecuteTime": {
     "end_time": "2024-03-07T04:26:54.881899Z",
     "start_time": "2024-03-07T04:26:54.876882Z"
    }
   },
   "outputs": [],
   "source": [
    "import os\n",
    "\n",
    "os.environ[\"PINECONE_API_KEY\"] = \"SET-YOUR-PINECONE-API-KEY-HERE\""
   ]
  },
  {
   "cell_type": "code",
   "execution_count": 18,
   "id": "4c497bf0",
   "metadata": {
    "ExecuteTime": {
     "end_time": "2024-03-07T05:05:03.329876Z",
     "start_time": "2024-03-07T05:05:03.326733Z"
    }
   },
   "outputs": [],
   "source": [
    "index_name = \"wiki10k\"\n",
    "\n",
    "docsearch = PineconeVectorStore.from_documents(docs, embeddings, index_name=index_name)"
   ]
  },
  {
   "cell_type": "markdown",
   "id": "9f6576fe",
   "metadata": {},
   "source": [
    "### Retrieval"
   ]
  },
  {
   "cell_type": "code",
   "execution_count": 22,
   "id": "5585b394",
   "metadata": {
    "ExecuteTime": {
     "end_time": "2024-03-07T05:06:02.274340Z",
     "start_time": "2024-03-07T05:06:01.351057Z"
    }
   },
   "outputs": [],
   "source": [
    "docsearch = PineconeVectorStore.from_existing_index(index_name, embeddings)"
   ]
  },
  {
   "cell_type": "code",
   "execution_count": 23,
   "id": "64ba629a",
   "metadata": {
    "ExecuteTime": {
     "end_time": "2024-03-07T05:06:19.965464Z",
     "start_time": "2024-03-07T05:06:19.960378Z"
    }
   },
   "outputs": [],
   "source": [
    "retriever = docsearch.as_retriever()"
   ]
  },
  {
   "cell_type": "code",
   "execution_count": 33,
   "id": "6560109d",
   "metadata": {
    "ExecuteTime": {
     "end_time": "2024-03-07T05:07:09.323721Z",
     "start_time": "2024-03-07T05:07:09.316611Z"
    }
   },
   "outputs": [
    {
     "data": {
      "text/plain": [
       "'Tim Kelly (Alaska politician)'"
      ]
     },
     "execution_count": 33,
     "metadata": {},
     "output_type": "execute_result"
    }
   ],
   "source": [
    "docs[15].metadata[\"title\"]"
   ]
  },
  {
   "cell_type": "code",
   "execution_count": 34,
   "id": "f5b31c5b",
   "metadata": {
    "ExecuteTime": {
     "end_time": "2024-03-07T05:07:23.749763Z",
     "start_time": "2024-03-07T05:07:23.747562Z"
    }
   },
   "outputs": [],
   "source": [
    "query = \"Who is Tim Kelly?\""
   ]
  },
  {
   "cell_type": "code",
   "execution_count": 35,
   "id": "e76cca39",
   "metadata": {
    "ExecuteTime": {
     "end_time": "2024-03-07T05:07:40.959910Z",
     "start_time": "2024-03-07T05:07:34.208696Z"
    }
   },
   "outputs": [],
   "source": [
    "matched_docs = retriever.get_relevant_documents(query)"
   ]
  },
  {
   "cell_type": "code",
   "execution_count": 36,
   "id": "3a854ee0",
   "metadata": {
    "ExecuteTime": {
     "end_time": "2024-03-07T05:07:44.749934Z",
     "start_time": "2024-03-07T05:07:44.743604Z"
    }
   },
   "outputs": [
    {
     "data": {
      "text/plain": [
       "[Document(page_content='text: Timothy Donahue Kelly (August 15, 1944 – August 17, 2009) was an American businessman and politician.\\n\\nBorn in Sacramento, California, Kelly graduated from Sacramento High School in 1962. He served in the United States Marine Corps and later in the Alaska Air National Guard. He was a legislative aide in California and Nevada. In 1970, he moved to Alaska and settled in Anchorage, Alaska. He was in the banking business.', metadata={'id': '53768941', 'row': 2.0, 'source': './wiki10k.csv', 'title': 'Tim Kelly (Alaska politician)', 'url': 'https://en.wikipedia.org/wiki/Tim%20Kelly%20%28Alaska%20politician%29'}),\n",
       " Document(page_content='text: Keith Gerard Taylor (born December 21, 1964) is a former American football safety in the National Football League (NFL) for the Indianapolis Colts, the New Orleans Saints, and the Washington Redskins.  He played college football at the University of Illinois and was drafted in the fifth round of the 1988 NFL Draft.  Taylor played high school football at Pennsauken High School in New Jersey and is the younger brother of John Taylor who was also played in the NFL as a wide receiver for the San Francisco', metadata={'id': '12123863', 'row': 1521.0, 'source': './wiki10k.csv', 'title': 'Keith Taylor (safety)', 'url': 'https://en.wikipedia.org/wiki/Keith%20Taylor%20%28safety%29'}),\n",
       " Document(page_content='text: Tim Kay Petersen (born 3 March 1986) is a German former professional footballer who played as a defender.', metadata={'id': '19048785', 'row': 361.0, 'source': './wiki10k.csv', 'title': 'Tim Petersen', 'url': 'https://en.wikipedia.org/wiki/Tim%20Petersen'}),\n",
       " Document(page_content='editor of the Irish American newspaper.', metadata={'id': '36016638', 'row': 1169.0, 'source': './wiki10k.csv', 'title': 'Joseph Lalor', 'url': 'https://en.wikipedia.org/wiki/Joseph%20Lalor'})]"
      ]
     },
     "execution_count": 36,
     "metadata": {},
     "output_type": "execute_result"
    }
   ],
   "source": [
    "matched_docs"
   ]
  },
  {
   "cell_type": "markdown",
   "id": "ba6c4c6c",
   "metadata": {},
   "source": [
    "### Using Maximum Marginal Relevancy"
   ]
  },
  {
   "cell_type": "code",
   "execution_count": 37,
   "id": "3af65b94",
   "metadata": {
    "ExecuteTime": {
     "end_time": "2024-03-07T05:08:25.142279Z",
     "start_time": "2024-03-07T05:08:25.137087Z"
    }
   },
   "outputs": [],
   "source": [
    "retriever = docsearch.as_retriever(search_type=\"mmr\")"
   ]
  },
  {
   "cell_type": "code",
   "execution_count": 38,
   "id": "c2c1621a",
   "metadata": {
    "ExecuteTime": {
     "end_time": "2024-03-07T05:08:35.102379Z",
     "start_time": "2024-03-07T05:08:31.229883Z"
    }
   },
   "outputs": [],
   "source": [
    "matched_docs = retriever.get_relevant_documents(query)"
   ]
  },
  {
   "cell_type": "code",
   "execution_count": 39,
   "id": "52a3b5a1",
   "metadata": {
    "ExecuteTime": {
     "end_time": "2024-03-07T05:08:35.106246Z",
     "start_time": "2024-03-07T05:08:35.103556Z"
    }
   },
   "outputs": [
    {
     "data": {
      "text/plain": [
       "[Document(page_content='text: Timothy Donahue Kelly (August 15, 1944 – August 17, 2009) was an American businessman and politician.\\n\\nBorn in Sacramento, California, Kelly graduated from Sacramento High School in 1962. He served in the United States Marine Corps and later in the Alaska Air National Guard. He was a legislative aide in California and Nevada. In 1970, he moved to Alaska and settled in Anchorage, Alaska. He was in the banking business.', metadata={'id': '53768941', 'row': 2.0, 'source': './wiki10k.csv', 'title': 'Tim Kelly (Alaska politician)', 'url': 'https://en.wikipedia.org/wiki/Tim%20Kelly%20%28Alaska%20politician%29'}),\n",
       " Document(page_content=\"Thune worked on a pilot in 2016 with his creative partner Kevin Parker Flynn, Holy Sh*t, a workplace comedy about a small church avoiding a mega-church takeover. The pilot was produced by Mila Kunis' production company.\\n\\nThune had a guest starring role on HBO's Love Life as Magnus, one of the relationships opposite Anna Kendrick during Season 1.\", metadata={'id': '16534594', 'row': 1310.0, 'source': './wiki10k.csv', 'title': 'Nick Thune', 'url': 'https://en.wikipedia.org/wiki/Nick%20Thune'}),\n",
       " Document(page_content='text: Tim Kay Petersen (born 3 March 1986) is a German former professional footballer who played as a defender.', metadata={'id': '19048785', 'row': 361.0, 'source': './wiki10k.csv', 'title': 'Tim Petersen', 'url': 'https://en.wikipedia.org/wiki/Tim%20Petersen'}),\n",
       " Document(page_content='made the fourth round of the 2006 UK Open, starting in the third round stage with a win over Colin Osborne and eventually losing to Colin Lloyd.', metadata={'id': '14934953', 'row': 212.0, 'source': './wiki10k.csv', 'title': 'Steve Maish', 'url': 'https://en.wikipedia.org/wiki/Steve%20Maish'})]"
      ]
     },
     "execution_count": 39,
     "metadata": {},
     "output_type": "execute_result"
    }
   ],
   "source": [
    "matched_docs"
   ]
  },
  {
   "cell_type": "markdown",
   "id": "5313c604",
   "metadata": {},
   "source": [
    "### Query using native pinecone python client"
   ]
  },
  {
   "cell_type": "code",
   "execution_count": 40,
   "id": "3031ef65",
   "metadata": {
    "ExecuteTime": {
     "end_time": "2024-03-07T05:21:36.639915Z",
     "start_time": "2024-03-07T05:21:36.635285Z"
    }
   },
   "outputs": [],
   "source": [
    "from pinecone import Pinecone\n",
    "\n",
    "pc = Pinecone(api_key=\"SET-YOUR-PINECONE-API-KEY-HERE\")\n",
    "index = pc.Index(\"wiki10k\")"
   ]
  },
  {
   "cell_type": "code",
   "execution_count": 41,
   "id": "66cc8d05",
   "metadata": {
    "ExecuteTime": {
     "end_time": "2024-03-07T05:22:06.285321Z",
     "start_time": "2024-03-07T05:22:06.283323Z"
    }
   },
   "outputs": [],
   "source": [
    "query = \"Who is Tim Kelly?\""
   ]
  },
  {
   "cell_type": "code",
   "execution_count": 42,
   "id": "953883ee",
   "metadata": {
    "ExecuteTime": {
     "end_time": "2024-03-07T05:22:18.536660Z",
     "start_time": "2024-03-07T05:22:18.484342Z"
    }
   },
   "outputs": [],
   "source": [
    "vector = embeddings.embed_query(query)"
   ]
  },
  {
   "cell_type": "code",
   "execution_count": 45,
   "id": "ec855ad0",
   "metadata": {
    "ExecuteTime": {
     "end_time": "2024-03-07T05:22:27.491311Z",
     "start_time": "2024-03-07T05:22:27.483959Z"
    }
   },
   "outputs": [
    {
     "data": {
      "text/plain": [
       "768"
      ]
     },
     "execution_count": 45,
     "metadata": {},
     "output_type": "execute_result"
    }
   ],
   "source": [
    "len(vector)"
   ]
  },
  {
   "cell_type": "code",
   "execution_count": 54,
   "id": "d1d0f49e",
   "metadata": {
    "ExecuteTime": {
     "end_time": "2024-03-07T05:23:49.391747Z",
     "start_time": "2024-03-07T05:23:48.844617Z"
    }
   },
   "outputs": [],
   "source": [
    "result = index.query(\n",
    "    vector=vector,\n",
    "    top_k=1,\n",
    "    include_metadata=True\n",
    ")"
   ]
  },
  {
   "cell_type": "code",
   "execution_count": 62,
   "id": "7a756155",
   "metadata": {
    "ExecuteTime": {
     "end_time": "2024-03-07T05:24:35.200807Z",
     "start_time": "2024-03-07T05:24:35.194343Z"
    }
   },
   "outputs": [
    {
     "data": {
      "text/plain": [
       "'Tim Kelly (Alaska politician)'"
      ]
     },
     "execution_count": 62,
     "metadata": {},
     "output_type": "execute_result"
    }
   ],
   "source": [
    "result[\"matches\"][0][\"metadata\"][\"title\"]"
   ]
  },
  {
   "cell_type": "code",
   "execution_count": 61,
   "id": "08c53a19",
   "metadata": {
    "ExecuteTime": {
     "end_time": "2024-03-07T05:24:15.840014Z",
     "start_time": "2024-03-07T05:24:15.836984Z"
    }
   },
   "outputs": [
    {
     "data": {
      "text/plain": [
       "'text: Timothy Donahue Kelly (August 15, 1944 – August 17, 2009) was an American businessman and politician.\\n\\nBorn in Sacramento, California, Kelly graduated from Sacramento High School in 1962. He served in the United States Marine Corps and later in the Alaska Air National Guard. He was a legislative aide in California and Nevada. In 1970, he moved to Alaska and settled in Anchorage, Alaska. He was in the banking business.'"
      ]
     },
     "execution_count": 61,
     "metadata": {},
     "output_type": "execute_result"
    }
   ],
   "source": [
    "result[\"matches\"][0][\"metadata\"][\"text\"]"
   ]
  },
  {
   "cell_type": "markdown",
   "id": "7b1b4039",
   "metadata": {},
   "source": [
    "### Filter using metadata"
   ]
  },
  {
   "cell_type": "code",
   "execution_count": 66,
   "id": "a0ff4d3d",
   "metadata": {
    "ExecuteTime": {
     "end_time": "2024-03-07T05:26:01.477703Z",
     "start_time": "2024-03-07T05:26:00.798548Z"
    }
   },
   "outputs": [],
   "source": [
    "result = index.query(\n",
    "    vector=vector,\n",
    "    filter={\n",
    "        \"title\": {\"$eq\": \"Tim Kelly (Alaska politician)\"}\n",
    "    },\n",
    "    top_k=1,\n",
    "    include_metadata=True\n",
    ")"
   ]
  }
 ],
 "metadata": {
  "kernelspec": {
   "display_name": "Python 3 (ipykernel)",
   "language": "python",
   "name": "python3"
  },
  "language_info": {
   "codemirror_mode": {
    "name": "ipython",
    "version": 3
   },
   "file_extension": ".py",
   "mimetype": "text/x-python",
   "name": "python",
   "nbconvert_exporter": "python",
   "pygments_lexer": "ipython3",
   "version": "3.11.5"
  }
 },
 "nbformat": 4,
 "nbformat_minor": 5
}

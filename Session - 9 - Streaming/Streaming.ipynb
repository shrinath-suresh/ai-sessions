{
 "cells": [
  {
   "cell_type": "code",
   "execution_count": 6,
   "id": "a9f4c5ae",
   "metadata": {
    "ExecuteTime": {
     "end_time": "2024-03-14T06:07:08.202038Z",
     "start_time": "2024-03-14T06:07:05.493730Z"
    }
   },
   "outputs": [],
   "source": [
    "! pip install -q langchainhub"
   ]
  },
  {
   "cell_type": "markdown",
   "id": "a85f2ebf",
   "metadata": {},
   "source": [
    "### Imports"
   ]
  },
  {
   "cell_type": "code",
   "execution_count": 59,
   "id": "055b6ae7",
   "metadata": {
    "ExecuteTime": {
     "end_time": "2024-03-14T07:18:59.539550Z",
     "start_time": "2024-03-14T07:18:59.532468Z"
    }
   },
   "outputs": [],
   "source": [
    "from langchain import hub\n",
    "from langchain_community.chat_models import ChatOpenAI\n",
    "from langchain_pinecone import PineconeVectorStore\n",
    "from langchain_community.embeddings import HuggingFaceEmbeddings\n",
    "from langchain.memory import ConversationBufferMemory\n",
    "from langchain.chains import ConversationalRetrievalChain\n",
    "from langchain_core.output_parsers import StrOutputParser\n",
    "from langchain_core.runnables import RunnableLambda, RunnablePassthrough\n",
    "from langchain.prompts.prompt import PromptTemplate\n",
    "from langchain_core.prompts import ChatPromptTemplate\n",
    "from langchain_core.messages import AIMessage, HumanMessage, get_buffer_string\n",
    "from langchain_core.prompts import format_document\n",
    "\n",
    "\n",
    "\n",
    "from operator import itemgetter\n",
    "\n",
    "\n",
    "from getpass import getpass\n"
   ]
  },
  {
   "cell_type": "markdown",
   "id": "0b6af68f",
   "metadata": {},
   "source": [
    "### Set the prompt"
   ]
  },
  {
   "cell_type": "code",
   "execution_count": 9,
   "id": "81666d84",
   "metadata": {
    "ExecuteTime": {
     "end_time": "2024-03-14T06:08:58.968387Z",
     "start_time": "2024-03-14T06:08:57.969148Z"
    }
   },
   "outputs": [
    {
     "data": {
      "text/plain": [
       "ChatPromptTemplate(input_variables=['context', 'input'], input_types={'chat_history': typing.List[typing.Union[langchain_core.messages.ai.AIMessage, langchain_core.messages.human.HumanMessage, langchain_core.messages.chat.ChatMessage, langchain_core.messages.system.SystemMessage, langchain_core.messages.function.FunctionMessage, langchain_core.messages.tool.ToolMessage]]}, messages=[SystemMessagePromptTemplate(prompt=PromptTemplate(input_variables=['context'], template='Answer any use questions based solely on the context below:\\n\\n<context>\\n{context}\\n</context>')), MessagesPlaceholder(variable_name='chat_history', optional=True), HumanMessagePromptTemplate(prompt=PromptTemplate(input_variables=['input'], template='{input}'))])"
      ]
     },
     "execution_count": 9,
     "metadata": {},
     "output_type": "execute_result"
    }
   ],
   "source": [
    "prompt = hub.pull(\"langchain-ai/retrieval-qa-chat\")\n",
    "prompt"
   ]
  },
  {
   "cell_type": "markdown",
   "id": "05743670",
   "metadata": {},
   "source": [
    "### Set the llm"
   ]
  },
  {
   "cell_type": "code",
   "execution_count": 107,
   "id": "0d7ad6a6",
   "metadata": {
    "ExecuteTime": {
     "end_time": "2024-03-14T16:44:03.335454Z",
     "start_time": "2024-03-14T16:44:03.331421Z"
    }
   },
   "outputs": [],
   "source": [
    "OPENAI_API_KEY = getpass()"
   ]
  },
  {
   "cell_type": "code",
   "execution_count": 12,
   "id": "61649c2f",
   "metadata": {
    "ExecuteTime": {
     "end_time": "2024-03-14T06:10:12.279358Z",
     "start_time": "2024-03-14T06:10:12.274769Z"
    }
   },
   "outputs": [],
   "source": [
    "import os\n",
    "\n",
    "os.environ[\"OPENAI_API_KEY\"] = OPENAI_API_KEY"
   ]
  },
  {
   "cell_type": "code",
   "execution_count": 15,
   "id": "480cc312",
   "metadata": {
    "ExecuteTime": {
     "end_time": "2024-03-14T06:10:36.504556Z",
     "start_time": "2024-03-14T06:10:36.141491Z"
    }
   },
   "outputs": [],
   "source": [
    "llm = ChatOpenAI()"
   ]
  },
  {
   "cell_type": "markdown",
   "id": "1673d500",
   "metadata": {},
   "source": [
    "### Set the embeddings"
   ]
  },
  {
   "cell_type": "code",
   "execution_count": 23,
   "id": "3608e1e3",
   "metadata": {
    "ExecuteTime": {
     "end_time": "2024-03-14T06:14:09.309522Z",
     "start_time": "2024-03-14T06:14:06.140428Z"
    }
   },
   "outputs": [],
   "source": [
    "embeddings = HuggingFaceEmbeddings(model_kwargs={'device' : 'cpu'})"
   ]
  },
  {
   "cell_type": "markdown",
   "id": "098026a7",
   "metadata": {},
   "source": [
    "### Set the vector index"
   ]
  },
  {
   "cell_type": "code",
   "execution_count": 108,
   "id": "183d3d8a",
   "metadata": {
    "ExecuteTime": {
     "end_time": "2024-03-14T16:44:08.198873Z",
     "start_time": "2024-03-14T16:44:08.195388Z"
    }
   },
   "outputs": [],
   "source": [
    "PINECONE_API_KEY = getpass()"
   ]
  },
  {
   "cell_type": "code",
   "execution_count": 17,
   "id": "a68fd7ae",
   "metadata": {
    "ExecuteTime": {
     "end_time": "2024-03-14T06:12:11.968392Z",
     "start_time": "2024-03-14T06:12:11.966086Z"
    }
   },
   "outputs": [],
   "source": [
    "import os\n",
    "\n",
    "os.environ[\"PINECONE_API_KEY\"] = PINECONE_API_KEY"
   ]
  },
  {
   "cell_type": "code",
   "execution_count": 25,
   "id": "99f1eb50",
   "metadata": {
    "ExecuteTime": {
     "end_time": "2024-03-14T06:14:41.176527Z",
     "start_time": "2024-03-14T06:14:40.382716Z"
    }
   },
   "outputs": [],
   "source": [
    "index_name = \"tamil-movies-4k\"\n",
    "docsearch = PineconeVectorStore.from_existing_index(index_name, embeddings)\n",
    "retriever = docsearch.as_retriever()"
   ]
  },
  {
   "cell_type": "markdown",
   "id": "c7f404ec",
   "metadata": {},
   "source": [
    "### Memory"
   ]
  },
  {
   "cell_type": "code",
   "execution_count": 34,
   "id": "2d82a25a",
   "metadata": {
    "ExecuteTime": {
     "end_time": "2024-03-14T07:10:01.108800Z",
     "start_time": "2024-03-14T07:10:01.106770Z"
    }
   },
   "outputs": [],
   "source": [
    "memory = ConversationBufferMemory(\n",
    "    return_messages=True, output_key=\"answer\", input_key=\"question\"\n",
    ")"
   ]
  },
  {
   "cell_type": "markdown",
   "id": "43c4cbf7",
   "metadata": {},
   "source": [
    "### Set the question prompt"
   ]
  },
  {
   "cell_type": "code",
   "execution_count": 43,
   "id": "cfa6ddbe",
   "metadata": {
    "ExecuteTime": {
     "end_time": "2024-03-14T07:13:18.097625Z",
     "start_time": "2024-03-14T07:13:18.093359Z"
    }
   },
   "outputs": [],
   "source": [
    "_template = \"\"\"Given the following conversation and a follow up question, rephrase the follow up question to be a standalone question, in its original language.\n",
    "\n",
    "Chat History:\n",
    "{chat_history}\n",
    "Follow Up Input: {question}\n",
    "Standalone question:\"\"\"\n",
    "CONDENSE_QUESTION_PROMPT = PromptTemplate.from_template(_template)"
   ]
  },
  {
   "cell_type": "code",
   "execution_count": 100,
   "id": "92fc9632",
   "metadata": {
    "ExecuteTime": {
     "end_time": "2024-03-14T10:23:41.069959Z",
     "start_time": "2024-03-14T10:23:41.061272Z"
    }
   },
   "outputs": [
    {
     "data": {
      "text/plain": [
       "PromptTemplate(input_variables=['chat_history', 'question'], template='Given the following conversation and a follow up question, rephrase the follow up question to be a standalone question, in its original language.\\n\\nChat History:\\n{chat_history}\\nFollow Up Input: {question}\\nStandalone question:')"
      ]
     },
     "execution_count": 100,
     "metadata": {},
     "output_type": "execute_result"
    }
   ],
   "source": [
    "CONDENSE_QUESTION_PROMPT"
   ]
  },
  {
   "cell_type": "code",
   "execution_count": 47,
   "id": "51b84eae",
   "metadata": {
    "ExecuteTime": {
     "end_time": "2024-03-14T07:15:31.272543Z",
     "start_time": "2024-03-14T07:15:31.270192Z"
    }
   },
   "outputs": [],
   "source": [
    "DEFAULT_DOCUMENT_PROMPT = PromptTemplate.from_template(template=\"{page_content}\")\n",
    "\n",
    "\n",
    "def _combine_documents(\n",
    "    docs, document_prompt=DEFAULT_DOCUMENT_PROMPT, document_separator=\"\\n\\n\"\n",
    "):\n",
    "    doc_strings = [format_document(doc, document_prompt) for doc in docs]\n",
    "    return document_separator.join(doc_strings)"
   ]
  },
  {
   "cell_type": "markdown",
   "id": "c6e7c895",
   "metadata": {},
   "source": [
    "### Set the Answer prompt"
   ]
  },
  {
   "cell_type": "code",
   "execution_count": 53,
   "id": "5a4594c2",
   "metadata": {
    "ExecuteTime": {
     "end_time": "2024-03-14T07:16:47.414917Z",
     "start_time": "2024-03-14T07:16:47.412881Z"
    }
   },
   "outputs": [],
   "source": [
    "template = \"\"\"Answer the question based only on the following context:\n",
    "{context}\n",
    "\n",
    "Question: {question}\n",
    "\"\"\"\n",
    "ANSWER_PROMPT = ChatPromptTemplate.from_template(template)"
   ]
  },
  {
   "cell_type": "markdown",
   "id": "472e13a9",
   "metadata": {},
   "source": [
    "### Create conversation chain"
   ]
  },
  {
   "cell_type": "code",
   "execution_count": 101,
   "id": "d04d7ec1",
   "metadata": {
    "ExecuteTime": {
     "end_time": "2024-03-14T10:26:29.582259Z",
     "start_time": "2024-03-14T10:26:29.578298Z"
    }
   },
   "outputs": [],
   "source": [
    "# First we add a step to load memory\n",
    "# This adds a \"memory\" key to the input object\n",
    "loaded_memory = RunnablePassthrough.assign(\n",
    "    chat_history=RunnableLambda(memory.load_memory_variables) | itemgetter(\"history\"),\n",
    ")"
   ]
  },
  {
   "cell_type": "code",
   "execution_count": 102,
   "id": "f759b751",
   "metadata": {
    "ExecuteTime": {
     "end_time": "2024-03-14T10:26:35.885002Z",
     "start_time": "2024-03-14T10:26:35.879615Z"
    }
   },
   "outputs": [],
   "source": [
    "# Now we calculate the standalone question\n",
    "standalone_question = {\n",
    "    \"standalone_question\": {\n",
    "        \"question\": lambda x: x[\"question\"],\n",
    "        \"chat_history\": lambda x: get_buffer_string(x[\"chat_history\"]),\n",
    "    }\n",
    "    | CONDENSE_QUESTION_PROMPT\n",
    "    | llm\n",
    "    | StrOutputParser(),\n",
    "}"
   ]
  },
  {
   "cell_type": "code",
   "execution_count": 103,
   "id": "e98c5edc",
   "metadata": {
    "ExecuteTime": {
     "end_time": "2024-03-14T10:26:39.278616Z",
     "start_time": "2024-03-14T10:26:39.274325Z"
    }
   },
   "outputs": [],
   "source": [
    "# Now we retrieve the documents\n",
    "retrieved_documents = {\n",
    "    \"docs\": itemgetter(\"standalone_question\") | retriever,\n",
    "    \"question\": lambda x: x[\"standalone_question\"],\n",
    "}"
   ]
  },
  {
   "cell_type": "code",
   "execution_count": 104,
   "id": "f38bd49d",
   "metadata": {
    "ExecuteTime": {
     "end_time": "2024-03-14T10:27:42.636117Z",
     "start_time": "2024-03-14T10:27:42.630798Z"
    }
   },
   "outputs": [],
   "source": [
    "# Now we construct the inputs for the final prompt\n",
    "final_inputs = {\n",
    "    \"context\": lambda x: _combine_documents(x[\"docs\"]),\n",
    "    \"question\": itemgetter(\"question\"),\n",
    "}"
   ]
  },
  {
   "cell_type": "code",
   "execution_count": 105,
   "id": "f48cccae",
   "metadata": {
    "ExecuteTime": {
     "end_time": "2024-03-14T10:27:50.900300Z",
     "start_time": "2024-03-14T10:27:50.896404Z"
    }
   },
   "outputs": [],
   "source": [
    "answer = {\n",
    "    \"answer\": final_inputs | ANSWER_PROMPT | llm,\n",
    "#     \"docs\": itemgetter(\"docs\"),\n",
    "}"
   ]
  },
  {
   "cell_type": "code",
   "execution_count": 106,
   "id": "1ab61b7a",
   "metadata": {
    "ExecuteTime": {
     "end_time": "2024-03-14T10:28:08.713644Z",
     "start_time": "2024-03-14T10:28:08.709695Z"
    }
   },
   "outputs": [],
   "source": [
    "# And now we put it all together!\n",
    "final_chain = loaded_memory | standalone_question | retrieved_documents | answer\n"
   ]
  },
  {
   "cell_type": "markdown",
   "id": "97015c33",
   "metadata": {},
   "source": [
    "### Inference"
   ]
  },
  {
   "cell_type": "code",
   "execution_count": 94,
   "id": "840fb5a9",
   "metadata": {
    "ExecuteTime": {
     "end_time": "2024-03-14T07:30:37.180568Z",
     "start_time": "2024-03-14T07:30:33.252842Z"
    }
   },
   "outputs": [
    {
     "data": {
      "text/plain": [
       "{'answer': AIMessage(content='Thuppakki (2012), Kaththi (2014) and Puli (2015)', response_metadata={'finish_reason': 'stop', 'logprobs': None})}"
      ]
     },
     "execution_count": 94,
     "metadata": {},
     "output_type": "execute_result"
    }
   ],
   "source": [
    "inputs = {\"question\": \"List the last 3 Vijay movie names\"}\n",
    "result = final_chain.invoke(inputs)\n",
    "result"
   ]
  },
  {
   "cell_type": "code",
   "execution_count": 99,
   "id": "9cc62b68",
   "metadata": {
    "ExecuteTime": {
     "end_time": "2024-03-14T09:11:53.613597Z",
     "start_time": "2024-03-14T09:11:53.607713Z"
    }
   },
   "outputs": [
    {
     "data": {
      "text/plain": [
       "'Thuppakki (2012), Kaththi (2014) and Puli (2015)'"
      ]
     },
     "execution_count": 99,
     "metadata": {},
     "output_type": "execute_result"
    }
   ],
   "source": [
    "result[\"answer\"].content"
   ]
  },
  {
   "cell_type": "code",
   "execution_count": 80,
   "id": "b3dabbc6",
   "metadata": {
    "ExecuteTime": {
     "end_time": "2024-03-14T07:24:08.942468Z",
     "start_time": "2024-03-14T07:24:08.937726Z"
    }
   },
   "outputs": [],
   "source": [
    "# Note that the memory does not save automatically\n",
    "# This will be improved in the future\n",
    "# For now you need to save it yourself\n",
    "memory.save_context(inputs, {\"answer\": result[\"answer\"].content})"
   ]
  },
  {
   "cell_type": "code",
   "execution_count": 81,
   "id": "0ae67fc9",
   "metadata": {
    "ExecuteTime": {
     "end_time": "2024-03-14T07:24:11.659423Z",
     "start_time": "2024-03-14T07:24:11.656735Z"
    }
   },
   "outputs": [
    {
     "data": {
      "text/plain": [
       "ConversationBufferMemory(chat_memory=ChatMessageHistory(messages=[HumanMessage(content='List the last 3 Vijay movie names'), AIMessage(content='The names of the last 3 movies released by Vijay are Thuppakki (2012), Kaththi (2014), and Puli (2015).')]), output_key='answer', input_key='question', return_messages=True)"
      ]
     },
     "execution_count": 81,
     "metadata": {},
     "output_type": "execute_result"
    }
   ],
   "source": [
    "memory"
   ]
  },
  {
   "cell_type": "code",
   "execution_count": 82,
   "id": "a27ad031",
   "metadata": {
    "ExecuteTime": {
     "end_time": "2024-03-14T07:24:21.325146Z",
     "start_time": "2024-03-14T07:24:19.088100Z"
    }
   },
   "outputs": [
    {
     "data": {
      "text/plain": [
       "{'answer': AIMessage(content='AR Murugadoss', response_metadata={'finish_reason': 'stop', 'logprobs': None}),\n",
       " 'docs': [Document(page_content=\"Murugadoss replaced his usual music director Harris Jayaraj with Anirudh Ravichander signing for the project. George C. Williams, who worked on the director's production Raja Rani (2013), was signed as the cinematographer. Art director Lalgudi N. Ilayaraja was selected to handle the production design. The film was earlier rumoured to be titled as Dheeran and Vaal. However, in March 2014, Murugadoss confirmed that the film would be titled Kaththi and that it was scheduled to be released on Diwali. In June\", metadata={'id': '41839006', 'release_year': '2014', 'row': 2241.0, 'source': 'movies_update.csv', 'title': 'Kaththi', 'url': 'https://en.wikipedia.org/wiki/Kaththi'}),\n",
       "  Document(page_content=\"Made on a budget of 70 crore, Kaththi was released worldwide on 22 October 2014, coinciding with Diwali, and received critical acclaim with critics praising Vijay and Neil's performance, technical aspects, background score, soundtrack, cinematography, editing, action sequences, social message, direction and the writing. Before the film's release, it faced controversies for plagiarism allegations, and the business link of Subaskaran, the film's producer, with Sri Lankan president Mahinda Rajapaksa, which\", metadata={'id': '41839006', 'release_year': '2014', 'row': 2241.0, 'source': 'movies_update.csv', 'title': 'Kaththi', 'url': 'https://en.wikipedia.org/wiki/Kaththi'}),\n",
       "  Document(page_content=\"text: Kaththi (; ) is a 2014 Indian Tamil-language action drama film written and directed by AR Murugadoss and produced by Lyca Productions. The film stars Vijay in a dual role with Samantha, Neil Nitin Mukesh, Tota Roy Chowdhury and Sathish. It focuses on Kathiresan, a petty thief and lookalike of Jeevanantham, who assumes the identity and attempts to lead a rebellion by farmers from the latter's village, Thanoothu, and helps them fight against an entrepreneur who exploited Thanoothu's water resources.\", metadata={'id': '41839006', 'release_year': '2014', 'row': 2241.0, 'source': 'movies_update.csv', 'title': 'Kaththi', 'url': 'https://en.wikipedia.org/wiki/Kaththi'}),\n",
       "  Document(page_content='editor and art director for this film.This film is shot in Tiruchirapalli(Trichy, lalgudi,kulithalai),etc.', metadata={'id': '58237930', 'release_year': '2018', 'row': 3585.0, 'source': 'movies_update.csv', 'title': 'Kanaa (film)', 'url': 'https://en.wikipedia.org/wiki/Kanaa%20%28film%29'})]}"
      ]
     },
     "execution_count": 82,
     "metadata": {},
     "output_type": "execute_result"
    }
   ],
   "source": [
    "# inputs = {\"question\": \"Who directed the second movie\"}\n",
    "result = final_chain.invoke({\n",
    "\n",
    "    \"question\": \"who directed the second movie?\",\n",
    "    \"chat_history\": memory.load_memory_variables({})[\"history\"],\n",
    "    \n",
    "})\n",
    "result"
   ]
  },
  {
   "cell_type": "code",
   "execution_count": 83,
   "id": "2c319482",
   "metadata": {
    "ExecuteTime": {
     "end_time": "2024-03-14T07:25:02.832907Z",
     "start_time": "2024-03-14T07:25:02.827976Z"
    }
   },
   "outputs": [],
   "source": [
    "memory.save_context(inputs, {\"answer\": result[\"answer\"].content})"
   ]
  },
  {
   "cell_type": "code",
   "execution_count": 84,
   "id": "527d487b",
   "metadata": {
    "ExecuteTime": {
     "end_time": "2024-03-14T07:25:05.797159Z",
     "start_time": "2024-03-14T07:25:05.791510Z"
    }
   },
   "outputs": [
    {
     "data": {
      "text/plain": [
       "ConversationBufferMemory(chat_memory=ChatMessageHistory(messages=[HumanMessage(content='List the last 3 Vijay movie names'), AIMessage(content='The names of the last 3 movies released by Vijay are Thuppakki (2012), Kaththi (2014), and Puli (2015).'), HumanMessage(content='List the last 3 Vijay movie names'), AIMessage(content='AR Murugadoss')]), output_key='answer', input_key='question', return_messages=True)"
      ]
     },
     "execution_count": 84,
     "metadata": {},
     "output_type": "execute_result"
    }
   ],
   "source": [
    "memory"
   ]
  },
  {
   "cell_type": "code",
   "execution_count": 95,
   "id": "e727d0f3",
   "metadata": {
    "ExecuteTime": {
     "end_time": "2024-03-14T07:30:47.652719Z",
     "start_time": "2024-03-14T07:30:47.649333Z"
    }
   },
   "outputs": [],
   "source": [
    "memory.clear()"
   ]
  },
  {
   "cell_type": "code",
   "execution_count": 96,
   "id": "d17fc423",
   "metadata": {
    "ExecuteTime": {
     "end_time": "2024-03-14T07:30:58.785261Z",
     "start_time": "2024-03-14T07:30:50.311137Z"
    }
   },
   "outputs": [
    {
     "name": "stdout",
     "output_type": "stream",
     "text": [
      "{'answer': AIMessageChunk(content='')}|{'answer': AIMessageChunk(content='Th')}|{'answer': AIMessageChunk(content='upp')}|{'answer': AIMessageChunk(content='ak')}|{'answer': AIMessageChunk(content='ki')}|{'answer': AIMessageChunk(content=' (')}|{'answer': AIMessageChunk(content='201')}|{'answer': AIMessageChunk(content='2')}|{'answer': AIMessageChunk(content='),')}|{'answer': AIMessageChunk(content=' Kath')}|{'answer': AIMessageChunk(content='th')}|{'answer': AIMessageChunk(content='i')}|{'answer': AIMessageChunk(content=' (')}|{'answer': AIMessageChunk(content='201')}|{'answer': AIMessageChunk(content='4')}|{'answer': AIMessageChunk(content=')')}|{'answer': AIMessageChunk(content=' and')}|{'answer': AIMessageChunk(content=' P')}|{'answer': AIMessageChunk(content='uli')}|{'answer': AIMessageChunk(content=' (')}|{'answer': AIMessageChunk(content='201')}|{'answer': AIMessageChunk(content='5')}|{'answer': AIMessageChunk(content=')')}|{'answer': AIMessageChunk(content='', response_metadata={'finish_reason': 'stop'})}|"
     ]
    }
   ],
   "source": [
    "async for chunk in final_chain.astream({\"question\": \"List the last 3 Vijay movies\"}):\n",
    "    print(chunk, end=\"|\", flush=True)"
   ]
  },
  {
   "cell_type": "code",
   "execution_count": null,
   "id": "ef2764ad",
   "metadata": {},
   "outputs": [],
   "source": []
  }
 ],
 "metadata": {
  "kernelspec": {
   "display_name": "Python 3 (ipykernel)",
   "language": "python",
   "name": "python3"
  },
  "language_info": {
   "codemirror_mode": {
    "name": "ipython",
    "version": 3
   },
   "file_extension": ".py",
   "mimetype": "text/x-python",
   "name": "python",
   "nbconvert_exporter": "python",
   "pygments_lexer": "ipython3",
   "version": "3.11.5"
  }
 },
 "nbformat": 4,
 "nbformat_minor": 5
}

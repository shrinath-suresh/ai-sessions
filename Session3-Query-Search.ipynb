{
 "cells": [
  {
   "cell_type": "markdown",
   "id": "13f70125",
   "metadata": {},
   "source": [
    "### Jaccard Similarity"
   ]
  },
  {
   "cell_type": "code",
   "execution_count": 2,
   "id": "097d165d",
   "metadata": {},
   "outputs": [
    {
     "name": "stdout",
     "output_type": "stream",
     "text": [
      "Intersection:  8\n",
      "Union:  9\n",
      "Jaccard similarity: 0.8888888888888888\n"
     ]
    }
   ],
   "source": [
    "def jaccard_similarity(sentence1, sentence2):\n",
    "    # Tokenize the sentences\n",
    "    set1 = set(sentence1.lower().split())\n",
    "    set2 = set(sentence2.lower().split())\n",
    "    \n",
    "    # Compute intersection and union of the token sets\n",
    "    intersection = len(set1.intersection(set2))\n",
    "    union = len(set1.union(set2))\n",
    "    \n",
    "    print(\"Intersection: \", intersection)\n",
    "    print(\"Union: \", union)\n",
    "    \n",
    "    # Compute Jaccard similarity\n",
    "    jaccard_similarity = intersection / union if union != 0 else 0\n",
    "    \n",
    "    return jaccard_similarity\n",
    "\n",
    "# Example usage:\n",
    "sentence1 = \"The quick brown fox jumps over the lazy dog\"\n",
    "sentence2 = \"A quick brown dog jumps over the lazy fox\"\n",
    "print(\"Jaccard similarity:\", jaccard_similarity(sentence1, sentence2))"
   ]
  },
  {
   "cell_type": "markdown",
   "id": "9ffbf72e",
   "metadata": {},
   "source": [
    "### W-Shingling"
   ]
  },
  {
   "cell_type": "code",
   "execution_count": 3,
   "id": "6513f305",
   "metadata": {},
   "outputs": [
    {
     "name": "stdout",
     "output_type": "stream",
     "text": [
      "Shingles of Document 1: {'brown fox jumps', 'jumps over the', 'the lazy dog', 'fox jumps over', 'over the lazy', 'The quick brown', 'quick brown fox'}\n",
      "Shingles of Document 2: {'quick brown dog', 'brown dog jumps', 'jumps over the', 'the lazy fox', 'A quick brown', 'dog jumps over', 'over the lazy'}\n",
      "Jaccard similarity: 0.16666666666666666\n"
     ]
    }
   ],
   "source": [
    "def generate_shingles(text, w):\n",
    "    shingles = set()\n",
    "    words = text.split()\n",
    "    for i in range(len(words) - w + 1):\n",
    "        shingle = ' '.join(words[i:i+w])\n",
    "        shingles.add(shingle)\n",
    "    return shingles\n",
    "\n",
    "def jaccard_similarity(set1, set2):\n",
    "    intersection = len(set1.intersection(set2))\n",
    "    union = len(set1.union(set2))\n",
    "    return intersection / union if union != 0 else 0\n",
    "\n",
    "# Example usage:\n",
    "document1 = \"The quick brown fox jumps over the lazy dog\"\n",
    "document2 = \"A quick brown dog jumps over the lazy fox\"\n",
    "w = 3  # Shingle length\n",
    "\n",
    "shingles1 = generate_shingles(document1, w)\n",
    "shingles2 = generate_shingles(document2, w)\n",
    "\n",
    "print(\"Shingles of Document 1:\", shingles1)\n",
    "print(\"Shingles of Document 2:\", shingles2)\n",
    "\n",
    "similarity = jaccard_similarity(shingles1, shingles2)\n",
    "print(\"Jaccard similarity:\", similarity)"
   ]
  },
  {
   "cell_type": "markdown",
   "id": "03a18efc",
   "metadata": {},
   "source": [
    "### Levenshtein"
   ]
  },
  {
   "cell_type": "code",
   "execution_count": 8,
   "id": "0fdd3d06",
   "metadata": {},
   "outputs": [
    {
     "name": "stdout",
     "output_type": "stream",
     "text": [
      "Levenshtein distance between 'kitten' and 'sitting': 3\n"
     ]
    }
   ],
   "source": [
    "def levenshtein_distance(str1, str2):\n",
    "    m = len(str1)\n",
    "    n = len(str2)\n",
    "\n",
    "    # Create a matrix to store distances\n",
    "    dp = [[0] * (n + 1) for _ in range(m + 1)]\n",
    "\n",
    "    # Initialize the first row and column of the matrix\n",
    "    for i in range(m + 1):\n",
    "        dp[i][0] = i\n",
    "    for j in range(n + 1):\n",
    "        dp[0][j] = j\n",
    "\n",
    "    # Calculate edit distance\n",
    "    for i in range(1, m + 1):\n",
    "        for j in range(1, n + 1):\n",
    "            if str1[i - 1] == str2[j - 1]:\n",
    "                dp[i][j] = dp[i - 1][j - 1]\n",
    "            else:\n",
    "                dp[i][j] = 1 + min(dp[i - 1][j],        # deletion\n",
    "                                   dp[i][j - 1],        # insertion\n",
    "                                   dp[i - 1][j - 1])    # substitution\n",
    "\n",
    "    # Return the edit distance between the two strings\n",
    "    return dp[m][n]\n",
    "\n",
    "# Example usage:\n",
    "str1 = \"kitten\"\n",
    "str2 = \"sitting\"\n",
    "distance = levenshtein_distance(str1, str2)\n",
    "print(\"Levenshtein distance between '{}' and '{}': {}\".format(str1, str2, distance))\n"
   ]
  },
  {
   "cell_type": "code",
   "execution_count": 9,
   "id": "6f6ad509",
   "metadata": {},
   "outputs": [
    {
     "name": "stdout",
     "output_type": "stream",
     "text": [
      "TF-IDF Cosine Similarity: 0.959403223600247\n"
     ]
    }
   ],
   "source": [
    "from sklearn.feature_extraction.text import TfidfVectorizer\n",
    "from sklearn.metrics.pairwise import cosine_similarity\n",
    "\n",
    "def sentence_similarity(sentence1, sentence2):\n",
    "    # Create TF-IDF vectorizer\n",
    "    vectorizer = TfidfVectorizer()\n",
    "\n",
    "    # Fit and transform the sentences\n",
    "    tfidf_matrix = vectorizer.fit_transform([sentence1, sentence2])\n",
    "\n",
    "    # Calculate cosine similarity between the vectors\n",
    "    similarity = cosine_similarity(tfidf_matrix[0], tfidf_matrix[1])[0][0]\n",
    "    \n",
    "    return similarity\n",
    "\n",
    "# Example usage:\n",
    "sentence1 = \"The quick brown fox jumps over the lazy dog\"\n",
    "sentence2 = \"A quick brown dog jumps over the lazy fox\"\n",
    "\n",
    "similarity = sentence_similarity(sentence1, sentence2)\n",
    "print(\"TF-IDF Cosine Similarity:\", similarity)\n"
   ]
  },
  {
   "cell_type": "code",
   "execution_count": null,
   "id": "d0d6b43e",
   "metadata": {},
   "outputs": [],
   "source": []
  }
 ],
 "metadata": {
  "kernelspec": {
   "display_name": "Python 3 (ipykernel)",
   "language": "python",
   "name": "python3"
  },
  "language_info": {
   "codemirror_mode": {
    "name": "ipython",
    "version": 3
   },
   "file_extension": ".py",
   "mimetype": "text/x-python",
   "name": "python",
   "nbconvert_exporter": "python",
   "pygments_lexer": "ipython3",
   "version": "3.11.5"
  }
 },
 "nbformat": 4,
 "nbformat_minor": 5
}
